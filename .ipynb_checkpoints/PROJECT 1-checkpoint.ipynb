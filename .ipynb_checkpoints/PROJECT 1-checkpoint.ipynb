{
 "cells": [
  {
   "cell_type": "markdown",
   "id": "b0cf1d02",
   "metadata": {},
   "source": [
    "# Project: Investigate a Dataset - No Show Appointment\n",
    "\n",
    "## Table of Contents\n",
    "<ul>\n",
    "<li><a href=\"#intro\">Introduction</a></li>\n",
    "<li><a href=\"#wrangling\">Data Wrangling</a></li>\n",
    "<li><a href=\"#eda\">Exploratory Data Analysis</a></li>\n",
    "<li><a href=\"#conclusions\">Conclusions</a></li>\n",
    "</ul>"
   ]
  },
  {
   "cell_type": "markdown",
   "id": "ea40a569",
   "metadata": {},
   "source": [
    "<a id='intro'></a>\n",
    "## Introduction\n",
    "\n",
    "### Dataset Description \n",
    "\n",
    "#### The dataset is a collection of medical appointments for 100k patients in Brasil. The dataset include the geographic location of patients, age, gender, appointment date,other medical cinditions and whether or not a patient showed up on their scheduled date. It also inludes the patient ID for each patient, appointment ID,and a column for patients that have access to medical scholarships. \"No\" in the no_show colunm indicates that a patient was present while \"Yes\" indicates that a patient was absent.\n",
    "\n",
    "\n",
    "\n",
    "### Question(s) for Analysis \n",
    "#### 1. Gender with the highest attendance rate.\n",
    "#### 2. What Features are important to predict if a patient will be present or absent. \n",
    "#### 3. Age distribution of people with access to medical scholarship."
   ]
  },
  {
   "cell_type": "code",
   "execution_count": 1,
   "id": "a675acc6",
   "metadata": {},
   "outputs": [],
   "source": [
    "#Import required modules\n",
    "import pandas as pd\n",
    "import numpy as np\n",
    "import matplotlib.pyplot as plt\n",
    "import seaborn as sns\n",
    "%matplotlib inline"
   ]
  },
  {
   "cell_type": "markdown",
   "id": "257482c5",
   "metadata": {},
   "source": [
    "<a id='wrangling'></a>\n",
    "## Data Wrangling\n",
    "\n",
    "> **Tip**: In this section of the report, you will load in the data, check for cleanliness, and then trim and clean your dataset for analysis. Make sure that you **document your data cleaning steps in mark-down cells precisely and justify your cleaning decisions.**\n",
    "\n",
    "### General Properties\n",
    "> **Tip**: You should _not_ perform too many operations in each cell. Create cells freely to explore your data. One option that you can take with this project is to do a lot of explorations in an initial notebook. These don't have to be organized, but make sure you use enough comments to understand the purpose of each code cell. Then, after you're done with your analysis, create a duplicate notebook where you will trim the excess and organize your steps so that you have a flowing, cohesive report."
   ]
  },
  {
   "cell_type": "code",
   "execution_count": 2,
   "id": "c23dc4bb",
   "metadata": {
    "scrolled": true
   },
   "outputs": [
    {
     "data": {
      "text/html": [
       "<div>\n",
       "<style scoped>\n",
       "    .dataframe tbody tr th:only-of-type {\n",
       "        vertical-align: middle;\n",
       "    }\n",
       "\n",
       "    .dataframe tbody tr th {\n",
       "        vertical-align: top;\n",
       "    }\n",
       "\n",
       "    .dataframe thead th {\n",
       "        text-align: right;\n",
       "    }\n",
       "</style>\n",
       "<table border=\"1\" class=\"dataframe\">\n",
       "  <thead>\n",
       "    <tr style=\"text-align: right;\">\n",
       "      <th></th>\n",
       "      <th>PatientId</th>\n",
       "      <th>AppointmentID</th>\n",
       "      <th>Gender</th>\n",
       "      <th>ScheduledDay</th>\n",
       "      <th>AppointmentDay</th>\n",
       "      <th>Age</th>\n",
       "      <th>Neighbourhood</th>\n",
       "      <th>Scholarship</th>\n",
       "      <th>Hipertension</th>\n",
       "      <th>Diabetes</th>\n",
       "      <th>Alcoholism</th>\n",
       "      <th>Handcap</th>\n",
       "      <th>SMS_received</th>\n",
       "      <th>No-show</th>\n",
       "    </tr>\n",
       "  </thead>\n",
       "  <tbody>\n",
       "    <tr>\n",
       "      <th>0</th>\n",
       "      <td>2.987250e+13</td>\n",
       "      <td>5642903</td>\n",
       "      <td>F</td>\n",
       "      <td>2016-04-29T18:38:08Z</td>\n",
       "      <td>2016-04-29T00:00:00Z</td>\n",
       "      <td>62</td>\n",
       "      <td>JARDIM DA PENHA</td>\n",
       "      <td>0</td>\n",
       "      <td>1</td>\n",
       "      <td>0</td>\n",
       "      <td>0</td>\n",
       "      <td>0</td>\n",
       "      <td>0</td>\n",
       "      <td>No</td>\n",
       "    </tr>\n",
       "    <tr>\n",
       "      <th>1</th>\n",
       "      <td>5.589978e+14</td>\n",
       "      <td>5642503</td>\n",
       "      <td>M</td>\n",
       "      <td>2016-04-29T16:08:27Z</td>\n",
       "      <td>2016-04-29T00:00:00Z</td>\n",
       "      <td>56</td>\n",
       "      <td>JARDIM DA PENHA</td>\n",
       "      <td>0</td>\n",
       "      <td>0</td>\n",
       "      <td>0</td>\n",
       "      <td>0</td>\n",
       "      <td>0</td>\n",
       "      <td>0</td>\n",
       "      <td>No</td>\n",
       "    </tr>\n",
       "    <tr>\n",
       "      <th>2</th>\n",
       "      <td>4.262962e+12</td>\n",
       "      <td>5642549</td>\n",
       "      <td>F</td>\n",
       "      <td>2016-04-29T16:19:04Z</td>\n",
       "      <td>2016-04-29T00:00:00Z</td>\n",
       "      <td>62</td>\n",
       "      <td>MATA DA PRAIA</td>\n",
       "      <td>0</td>\n",
       "      <td>0</td>\n",
       "      <td>0</td>\n",
       "      <td>0</td>\n",
       "      <td>0</td>\n",
       "      <td>0</td>\n",
       "      <td>No</td>\n",
       "    </tr>\n",
       "  </tbody>\n",
       "</table>\n",
       "</div>"
      ],
      "text/plain": [
       "      PatientId  AppointmentID Gender          ScheduledDay  \\\n",
       "0  2.987250e+13        5642903      F  2016-04-29T18:38:08Z   \n",
       "1  5.589978e+14        5642503      M  2016-04-29T16:08:27Z   \n",
       "2  4.262962e+12        5642549      F  2016-04-29T16:19:04Z   \n",
       "\n",
       "         AppointmentDay  Age    Neighbourhood  Scholarship  Hipertension  \\\n",
       "0  2016-04-29T00:00:00Z   62  JARDIM DA PENHA            0             1   \n",
       "1  2016-04-29T00:00:00Z   56  JARDIM DA PENHA            0             0   \n",
       "2  2016-04-29T00:00:00Z   62    MATA DA PRAIA            0             0   \n",
       "\n",
       "   Diabetes  Alcoholism  Handcap  SMS_received No-show  \n",
       "0         0           0        0             0      No  \n",
       "1         0           0        0             0      No  \n",
       "2         0           0        0             0      No  "
      ]
     },
     "execution_count": 2,
     "metadata": {},
     "output_type": "execute_result"
    }
   ],
   "source": [
    "#load dataset and view a few rows\n",
    "df_doc_appt = pd.read_csv('doctors_appointments.csv')\n",
    "df_doc_appt.head(3)"
   ]
  },
  {
   "cell_type": "markdown",
   "id": "7c72c0f8",
   "metadata": {},
   "source": [
    "### General Properties\n"
   ]
  },
  {
   "cell_type": "code",
   "execution_count": 3,
   "id": "b42e4f1d",
   "metadata": {},
   "outputs": [
    {
     "data": {
      "text/plain": [
       "(110527, 14)"
      ]
     },
     "execution_count": 3,
     "metadata": {},
     "output_type": "execute_result"
    }
   ],
   "source": [
    "#Know the size of the data by getting its shape\n",
    "df_doc_appt.shape"
   ]
  },
  {
   "cell_type": "code",
   "execution_count": 4,
   "id": "1b3282b9",
   "metadata": {},
   "outputs": [
    {
     "data": {
      "text/plain": [
       "0"
      ]
     },
     "execution_count": 4,
     "metadata": {},
     "output_type": "execute_result"
    }
   ],
   "source": [
    "#check for duplicates\n",
    "sum(df_doc_appt.duplicated())"
   ]
  },
  {
   "cell_type": "code",
   "execution_count": 5,
   "id": "a0d12656",
   "metadata": {},
   "outputs": [
    {
     "name": "stdout",
     "output_type": "stream",
     "text": [
      "<class 'pandas.core.frame.DataFrame'>\n",
      "RangeIndex: 110527 entries, 0 to 110526\n",
      "Data columns (total 14 columns):\n",
      " #   Column          Non-Null Count   Dtype  \n",
      "---  ------          --------------   -----  \n",
      " 0   PatientId       110527 non-null  float64\n",
      " 1   AppointmentID   110527 non-null  int64  \n",
      " 2   Gender          110527 non-null  object \n",
      " 3   ScheduledDay    110527 non-null  object \n",
      " 4   AppointmentDay  110527 non-null  object \n",
      " 5   Age             110527 non-null  int64  \n",
      " 6   Neighbourhood   110527 non-null  object \n",
      " 7   Scholarship     110527 non-null  int64  \n",
      " 8   Hipertension    110527 non-null  int64  \n",
      " 9   Diabetes        110527 non-null  int64  \n",
      " 10  Alcoholism      110527 non-null  int64  \n",
      " 11  Handcap         110527 non-null  int64  \n",
      " 12  SMS_received    110527 non-null  int64  \n",
      " 13  No-show         110527 non-null  object \n",
      "dtypes: float64(1), int64(8), object(5)\n",
      "memory usage: 11.8+ MB\n"
     ]
    }
   ],
   "source": [
    "#view general information about data set\n",
    "df_doc_appt.info()"
   ]
  },
  {
   "cell_type": "code",
   "execution_count": 6,
   "id": "4eeb5a84",
   "metadata": {},
   "outputs": [
    {
     "data": {
      "text/html": [
       "<div>\n",
       "<style scoped>\n",
       "    .dataframe tbody tr th:only-of-type {\n",
       "        vertical-align: middle;\n",
       "    }\n",
       "\n",
       "    .dataframe tbody tr th {\n",
       "        vertical-align: top;\n",
       "    }\n",
       "\n",
       "    .dataframe thead th {\n",
       "        text-align: right;\n",
       "    }\n",
       "</style>\n",
       "<table border=\"1\" class=\"dataframe\">\n",
       "  <thead>\n",
       "    <tr style=\"text-align: right;\">\n",
       "      <th></th>\n",
       "      <th>PatientId</th>\n",
       "      <th>AppointmentID</th>\n",
       "      <th>Age</th>\n",
       "      <th>Scholarship</th>\n",
       "      <th>Hipertension</th>\n",
       "      <th>Diabetes</th>\n",
       "      <th>Alcoholism</th>\n",
       "      <th>Handcap</th>\n",
       "      <th>SMS_received</th>\n",
       "    </tr>\n",
       "  </thead>\n",
       "  <tbody>\n",
       "    <tr>\n",
       "      <th>count</th>\n",
       "      <td>1.105270e+05</td>\n",
       "      <td>1.105270e+05</td>\n",
       "      <td>110527.000000</td>\n",
       "      <td>110527.000000</td>\n",
       "      <td>110527.000000</td>\n",
       "      <td>110527.000000</td>\n",
       "      <td>110527.000000</td>\n",
       "      <td>110527.000000</td>\n",
       "      <td>110527.000000</td>\n",
       "    </tr>\n",
       "    <tr>\n",
       "      <th>mean</th>\n",
       "      <td>1.474963e+14</td>\n",
       "      <td>5.675305e+06</td>\n",
       "      <td>37.088874</td>\n",
       "      <td>0.098266</td>\n",
       "      <td>0.197246</td>\n",
       "      <td>0.071865</td>\n",
       "      <td>0.030400</td>\n",
       "      <td>0.022248</td>\n",
       "      <td>0.321026</td>\n",
       "    </tr>\n",
       "    <tr>\n",
       "      <th>std</th>\n",
       "      <td>2.560949e+14</td>\n",
       "      <td>7.129575e+04</td>\n",
       "      <td>23.110205</td>\n",
       "      <td>0.297675</td>\n",
       "      <td>0.397921</td>\n",
       "      <td>0.258265</td>\n",
       "      <td>0.171686</td>\n",
       "      <td>0.161543</td>\n",
       "      <td>0.466873</td>\n",
       "    </tr>\n",
       "    <tr>\n",
       "      <th>min</th>\n",
       "      <td>3.921784e+04</td>\n",
       "      <td>5.030230e+06</td>\n",
       "      <td>-1.000000</td>\n",
       "      <td>0.000000</td>\n",
       "      <td>0.000000</td>\n",
       "      <td>0.000000</td>\n",
       "      <td>0.000000</td>\n",
       "      <td>0.000000</td>\n",
       "      <td>0.000000</td>\n",
       "    </tr>\n",
       "    <tr>\n",
       "      <th>25%</th>\n",
       "      <td>4.172614e+12</td>\n",
       "      <td>5.640286e+06</td>\n",
       "      <td>18.000000</td>\n",
       "      <td>0.000000</td>\n",
       "      <td>0.000000</td>\n",
       "      <td>0.000000</td>\n",
       "      <td>0.000000</td>\n",
       "      <td>0.000000</td>\n",
       "      <td>0.000000</td>\n",
       "    </tr>\n",
       "    <tr>\n",
       "      <th>50%</th>\n",
       "      <td>3.173184e+13</td>\n",
       "      <td>5.680573e+06</td>\n",
       "      <td>37.000000</td>\n",
       "      <td>0.000000</td>\n",
       "      <td>0.000000</td>\n",
       "      <td>0.000000</td>\n",
       "      <td>0.000000</td>\n",
       "      <td>0.000000</td>\n",
       "      <td>0.000000</td>\n",
       "    </tr>\n",
       "    <tr>\n",
       "      <th>75%</th>\n",
       "      <td>9.439172e+13</td>\n",
       "      <td>5.725524e+06</td>\n",
       "      <td>55.000000</td>\n",
       "      <td>0.000000</td>\n",
       "      <td>0.000000</td>\n",
       "      <td>0.000000</td>\n",
       "      <td>0.000000</td>\n",
       "      <td>0.000000</td>\n",
       "      <td>1.000000</td>\n",
       "    </tr>\n",
       "    <tr>\n",
       "      <th>max</th>\n",
       "      <td>9.999816e+14</td>\n",
       "      <td>5.790484e+06</td>\n",
       "      <td>115.000000</td>\n",
       "      <td>1.000000</td>\n",
       "      <td>1.000000</td>\n",
       "      <td>1.000000</td>\n",
       "      <td>1.000000</td>\n",
       "      <td>4.000000</td>\n",
       "      <td>1.000000</td>\n",
       "    </tr>\n",
       "  </tbody>\n",
       "</table>\n",
       "</div>"
      ],
      "text/plain": [
       "          PatientId  AppointmentID            Age    Scholarship  \\\n",
       "count  1.105270e+05   1.105270e+05  110527.000000  110527.000000   \n",
       "mean   1.474963e+14   5.675305e+06      37.088874       0.098266   \n",
       "std    2.560949e+14   7.129575e+04      23.110205       0.297675   \n",
       "min    3.921784e+04   5.030230e+06      -1.000000       0.000000   \n",
       "25%    4.172614e+12   5.640286e+06      18.000000       0.000000   \n",
       "50%    3.173184e+13   5.680573e+06      37.000000       0.000000   \n",
       "75%    9.439172e+13   5.725524e+06      55.000000       0.000000   \n",
       "max    9.999816e+14   5.790484e+06     115.000000       1.000000   \n",
       "\n",
       "        Hipertension       Diabetes     Alcoholism        Handcap  \\\n",
       "count  110527.000000  110527.000000  110527.000000  110527.000000   \n",
       "mean        0.197246       0.071865       0.030400       0.022248   \n",
       "std         0.397921       0.258265       0.171686       0.161543   \n",
       "min         0.000000       0.000000       0.000000       0.000000   \n",
       "25%         0.000000       0.000000       0.000000       0.000000   \n",
       "50%         0.000000       0.000000       0.000000       0.000000   \n",
       "75%         0.000000       0.000000       0.000000       0.000000   \n",
       "max         1.000000       1.000000       1.000000       4.000000   \n",
       "\n",
       "        SMS_received  \n",
       "count  110527.000000  \n",
       "mean        0.321026  \n",
       "std         0.466873  \n",
       "min         0.000000  \n",
       "25%         0.000000  \n",
       "50%         0.000000  \n",
       "75%         1.000000  \n",
       "max         1.000000  "
      ]
     },
     "execution_count": 6,
     "metadata": {},
     "output_type": "execute_result"
    }
   ],
   "source": [
    "#Statistical description of data\n",
    "df_doc_appt.describe()"
   ]
  },
  {
   "cell_type": "code",
   "execution_count": 7,
   "id": "391c85fa",
   "metadata": {
    "scrolled": true
   },
   "outputs": [
    {
     "data": {
      "text/plain": [
       "array([ 62,  56,   8,  76,  23,  39,  21,  19,  30,  29,  22,  28,  54,\n",
       "        15,  50,  40,  46,   4,  13,  65,  45,  51,  32,  12,  61,  38,\n",
       "        79,  18,  63,  64,  85,  59,  55,  71,  49,  78,  31,  58,  27,\n",
       "         6,   2,  11,   7,   0,   3,   1,  69,  68,  60,  67,  36,  10,\n",
       "        35,  20,  26,  34,  33,  16,  42,   5,  47,  17,  41,  44,  37,\n",
       "        24,  66,  77,  81,  70,  53,  75,  73,  52,  74,  43,  89,  57,\n",
       "        14,   9,  48,  83,  72,  25,  80,  87,  88,  84,  82,  90,  94,\n",
       "        86,  91,  98,  92,  96,  93,  95,  97, 102, 115, 100,  99,  -1],\n",
       "      dtype=int64)"
      ]
     },
     "execution_count": 7,
     "metadata": {},
     "output_type": "execute_result"
    }
   ],
   "source": [
    "df_doc_appt['Age'].unique()"
   ]
  },
  {
   "cell_type": "code",
   "execution_count": 8,
   "id": "a21d72ca",
   "metadata": {},
   "outputs": [
    {
     "data": {
      "text/plain": [
       "array([0, 1, 2, 3, 4], dtype=int64)"
      ]
     },
     "execution_count": 8,
     "metadata": {},
     "output_type": "execute_result"
    }
   ],
   "source": [
    "df_doc_appt['Handcap'].unique()"
   ]
  },
  {
   "cell_type": "code",
   "execution_count": 9,
   "id": "8cd97dcd",
   "metadata": {
    "scrolled": false
   },
   "outputs": [
    {
     "data": {
      "image/png": "[encoded data removed]",
      "text/plain": [
       "<Figure size 1080x1080 with 9 Axes>"
      ]
     },
     "metadata": {
      "needs_background": "light"
     },
     "output_type": "display_data"
    }
   ],
   "source": [
    "df_doc_appt.hist(figsize = (15,15));"
   ]
  },
  {
   "cell_type": "markdown",
   "id": "de33a736",
   "metadata": {},
   "source": [
    "\n",
    "### Data Cleaning"
   ]
  },
  {
   "cell_type": "markdown",
   "id": "bcf3558f",
   "metadata": {},
   "source": [
    "#### There are no null values in the data as seen from the general information, and the data does not also have duplicates. The schedule day and appointment day columns contains same data although the schedule day is more complete as it captures time, therefore i would be dropping the the appointmentday colunm. I would also be dropping the patient ID and appointment ID colunm as they would not be used in the analysis.\n",
    "\n",
    "#### The scheduledday is having a wrong format 'string', this would be corrected to datetime, also the summary statistics reveals some in approiprate data for the age and handicap columns, this would also need to be corrected. The 'handicap' and no-show column names will also be renamed for consistency."
   ]
  },
  {
   "cell_type": "code",
   "execution_count": 10,
   "id": "652d6459",
   "metadata": {},
   "outputs": [],
   "source": [
    "#drop columns not relevant to the analysis\n",
    "df_doc_appt.drop(['PatientId','AppointmentID','AppointmentDay'], axis = 1, inplace = True)"
   ]
  },
  {
   "cell_type": "code",
   "execution_count": 11,
   "id": "fe2754d6",
   "metadata": {},
   "outputs": [],
   "source": [
    "#Rename columns to lower case for consistency\n",
    "df_doc_appt.rename(columns = lambda x : x.lower().replace(\"-\",\"_\"),inplace = True)\n",
    "df_doc_appt.rename(columns = {'handcap':'handicap'},inplace = True)"
   ]
  },
  {
   "cell_type": "code",
   "execution_count": 12,
   "id": "b1f5fc25",
   "metadata": {},
   "outputs": [
    {
     "data": {
      "text/html": [
       "<div>\n",
       "<style scoped>\n",
       "    .dataframe tbody tr th:only-of-type {\n",
       "        vertical-align: middle;\n",
       "    }\n",
       "\n",
       "    .dataframe tbody tr th {\n",
       "        vertical-align: top;\n",
       "    }\n",
       "\n",
       "    .dataframe thead th {\n",
       "        text-align: right;\n",
       "    }\n",
       "</style>\n",
       "<table border=\"1\" class=\"dataframe\">\n",
       "  <thead>\n",
       "    <tr style=\"text-align: right;\">\n",
       "      <th></th>\n",
       "      <th>gender</th>\n",
       "      <th>scheduledday</th>\n",
       "      <th>age</th>\n",
       "      <th>neighbourhood</th>\n",
       "      <th>scholarship</th>\n",
       "      <th>hipertension</th>\n",
       "      <th>diabetes</th>\n",
       "      <th>alcoholism</th>\n",
       "      <th>handicap</th>\n",
       "      <th>sms_received</th>\n",
       "      <th>no_show</th>\n",
       "    </tr>\n",
       "  </thead>\n",
       "  <tbody>\n",
       "    <tr>\n",
       "      <th>0</th>\n",
       "      <td>F</td>\n",
       "      <td>2016-04-29T18:38:08Z</td>\n",
       "      <td>62</td>\n",
       "      <td>JARDIM DA PENHA</td>\n",
       "      <td>0</td>\n",
       "      <td>1</td>\n",
       "      <td>0</td>\n",
       "      <td>0</td>\n",
       "      <td>0</td>\n",
       "      <td>0</td>\n",
       "      <td>No</td>\n",
       "    </tr>\n",
       "    <tr>\n",
       "      <th>1</th>\n",
       "      <td>M</td>\n",
       "      <td>2016-04-29T16:08:27Z</td>\n",
       "      <td>56</td>\n",
       "      <td>JARDIM DA PENHA</td>\n",
       "      <td>0</td>\n",
       "      <td>0</td>\n",
       "      <td>0</td>\n",
       "      <td>0</td>\n",
       "      <td>0</td>\n",
       "      <td>0</td>\n",
       "      <td>No</td>\n",
       "    </tr>\n",
       "    <tr>\n",
       "      <th>2</th>\n",
       "      <td>F</td>\n",
       "      <td>2016-04-29T16:19:04Z</td>\n",
       "      <td>62</td>\n",
       "      <td>MATA DA PRAIA</td>\n",
       "      <td>0</td>\n",
       "      <td>0</td>\n",
       "      <td>0</td>\n",
       "      <td>0</td>\n",
       "      <td>0</td>\n",
       "      <td>0</td>\n",
       "      <td>No</td>\n",
       "    </tr>\n",
       "    <tr>\n",
       "      <th>3</th>\n",
       "      <td>F</td>\n",
       "      <td>2016-04-29T17:29:31Z</td>\n",
       "      <td>8</td>\n",
       "      <td>PONTAL DE CAMBURI</td>\n",
       "      <td>0</td>\n",
       "      <td>0</td>\n",
       "      <td>0</td>\n",
       "      <td>0</td>\n",
       "      <td>0</td>\n",
       "      <td>0</td>\n",
       "      <td>No</td>\n",
       "    </tr>\n",
       "    <tr>\n",
       "      <th>4</th>\n",
       "      <td>F</td>\n",
       "      <td>2016-04-29T16:07:23Z</td>\n",
       "      <td>56</td>\n",
       "      <td>JARDIM DA PENHA</td>\n",
       "      <td>0</td>\n",
       "      <td>1</td>\n",
       "      <td>1</td>\n",
       "      <td>0</td>\n",
       "      <td>0</td>\n",
       "      <td>0</td>\n",
       "      <td>No</td>\n",
       "    </tr>\n",
       "  </tbody>\n",
       "</table>\n",
       "</div>"
      ],
      "text/plain": [
       "  gender          scheduledday  age      neighbourhood  scholarship  \\\n",
       "0      F  2016-04-29T18:38:08Z   62    JARDIM DA PENHA            0   \n",
       "1      M  2016-04-29T16:08:27Z   56    JARDIM DA PENHA            0   \n",
       "2      F  2016-04-29T16:19:04Z   62      MATA DA PRAIA            0   \n",
       "3      F  2016-04-29T17:29:31Z    8  PONTAL DE CAMBURI            0   \n",
       "4      F  2016-04-29T16:07:23Z   56    JARDIM DA PENHA            0   \n",
       "\n",
       "   hipertension  diabetes  alcoholism  handicap  sms_received no_show  \n",
       "0             1         0           0         0             0      No  \n",
       "1             0         0           0         0             0      No  \n",
       "2             0         0           0         0             0      No  \n",
       "3             0         0           0         0             0      No  \n",
       "4             1         1           0         0             0      No  "
      ]
     },
     "execution_count": 12,
     "metadata": {},
     "output_type": "execute_result"
    }
   ],
   "source": [
    "#confirm changes from code above\n",
    "df_doc_appt.head()"
   ]
  },
  {
   "cell_type": "code",
   "execution_count": 13,
   "id": "917b96ec",
   "metadata": {},
   "outputs": [
    {
     "data": {
      "text/plain": [
       "(110527, 11)"
      ]
     },
     "execution_count": 13,
     "metadata": {},
     "output_type": "execute_result"
    }
   ],
   "source": [
    "#View new size of the dataframe\n",
    "df_doc_appt.shape"
   ]
  },
  {
   "cell_type": "code",
   "execution_count": 14,
   "id": "7315eebb",
   "metadata": {},
   "outputs": [],
   "source": [
    "#replace inapproipate values in the handicap column\n",
    "df_doc_appt['handicap'].replace([2,3,4],1,inplace = True)"
   ]
  },
  {
   "cell_type": "code",
   "execution_count": 15,
   "id": "75fa57ef",
   "metadata": {},
   "outputs": [],
   "source": [
    "#import datetime module to convert scheduledday to appropriate datatype\n",
    "from datetime import datetime"
   ]
  },
  {
   "cell_type": "code",
   "execution_count": 16,
   "id": "d66ea322",
   "metadata": {},
   "outputs": [],
   "source": [
    "df_doc_appt['scheduledday'] = pd.to_datetime(df_doc_appt['scheduledday'])"
   ]
  },
  {
   "cell_type": "code",
   "execution_count": 17,
   "id": "d4c8d8a3",
   "metadata": {
    "scrolled": false
   },
   "outputs": [
    {
     "name": "stdout",
     "output_type": "stream",
     "text": [
      "<class 'pandas.core.frame.DataFrame'>\n",
      "RangeIndex: 110527 entries, 0 to 110526\n",
      "Data columns (total 11 columns):\n",
      " #   Column         Non-Null Count   Dtype              \n",
      "---  ------         --------------   -----              \n",
      " 0   gender         110527 non-null  object             \n",
      " 1   scheduledday   110527 non-null  datetime64[ns, UTC]\n",
      " 2   age            110527 non-null  int64              \n",
      " 3   neighbourhood  110527 non-null  object             \n",
      " 4   scholarship    110527 non-null  int64              \n",
      " 5   hipertension   110527 non-null  int64              \n",
      " 6   diabetes       110527 non-null  int64              \n",
      " 7   alcoholism     110527 non-null  int64              \n",
      " 8   handicap       110527 non-null  int64              \n",
      " 9   sms_received   110527 non-null  int64              \n",
      " 10  no_show        110527 non-null  object             \n",
      "dtypes: datetime64[ns, UTC](1), int64(7), object(3)\n",
      "memory usage: 9.3+ MB\n"
     ]
    },
    {
     "data": {
      "text/html": [
       "<div>\n",
       "<style scoped>\n",
       "    .dataframe tbody tr th:only-of-type {\n",
       "        vertical-align: middle;\n",
       "    }\n",
       "\n",
       "    .dataframe tbody tr th {\n",
       "        vertical-align: top;\n",
       "    }\n",
       "\n",
       "    .dataframe thead th {\n",
       "        text-align: right;\n",
       "    }\n",
       "</style>\n",
       "<table border=\"1\" class=\"dataframe\">\n",
       "  <thead>\n",
       "    <tr style=\"text-align: right;\">\n",
       "      <th></th>\n",
       "      <th>gender</th>\n",
       "      <th>scheduledday</th>\n",
       "      <th>age</th>\n",
       "      <th>neighbourhood</th>\n",
       "      <th>scholarship</th>\n",
       "      <th>hipertension</th>\n",
       "      <th>diabetes</th>\n",
       "      <th>alcoholism</th>\n",
       "      <th>handicap</th>\n",
       "      <th>sms_received</th>\n",
       "      <th>no_show</th>\n",
       "    </tr>\n",
       "  </thead>\n",
       "  <tbody>\n",
       "    <tr>\n",
       "      <th>0</th>\n",
       "      <td>F</td>\n",
       "      <td>2016-04-29 18:38:08+00:00</td>\n",
       "      <td>62</td>\n",
       "      <td>JARDIM DA PENHA</td>\n",
       "      <td>0</td>\n",
       "      <td>1</td>\n",
       "      <td>0</td>\n",
       "      <td>0</td>\n",
       "      <td>0</td>\n",
       "      <td>0</td>\n",
       "      <td>No</td>\n",
       "    </tr>\n",
       "    <tr>\n",
       "      <th>1</th>\n",
       "      <td>M</td>\n",
       "      <td>2016-04-29 16:08:27+00:00</td>\n",
       "      <td>56</td>\n",
       "      <td>JARDIM DA PENHA</td>\n",
       "      <td>0</td>\n",
       "      <td>0</td>\n",
       "      <td>0</td>\n",
       "      <td>0</td>\n",
       "      <td>0</td>\n",
       "      <td>0</td>\n",
       "      <td>No</td>\n",
       "    </tr>\n",
       "    <tr>\n",
       "      <th>2</th>\n",
       "      <td>F</td>\n",
       "      <td>2016-04-29 16:19:04+00:00</td>\n",
       "      <td>62</td>\n",
       "      <td>MATA DA PRAIA</td>\n",
       "      <td>0</td>\n",
       "      <td>0</td>\n",
       "      <td>0</td>\n",
       "      <td>0</td>\n",
       "      <td>0</td>\n",
       "      <td>0</td>\n",
       "      <td>No</td>\n",
       "    </tr>\n",
       "    <tr>\n",
       "      <th>3</th>\n",
       "      <td>F</td>\n",
       "      <td>2016-04-29 17:29:31+00:00</td>\n",
       "      <td>8</td>\n",
       "      <td>PONTAL DE CAMBURI</td>\n",
       "      <td>0</td>\n",
       "      <td>0</td>\n",
       "      <td>0</td>\n",
       "      <td>0</td>\n",
       "      <td>0</td>\n",
       "      <td>0</td>\n",
       "      <td>No</td>\n",
       "    </tr>\n",
       "    <tr>\n",
       "      <th>4</th>\n",
       "      <td>F</td>\n",
       "      <td>2016-04-29 16:07:23+00:00</td>\n",
       "      <td>56</td>\n",
       "      <td>JARDIM DA PENHA</td>\n",
       "      <td>0</td>\n",
       "      <td>1</td>\n",
       "      <td>1</td>\n",
       "      <td>0</td>\n",
       "      <td>0</td>\n",
       "      <td>0</td>\n",
       "      <td>No</td>\n",
       "    </tr>\n",
       "  </tbody>\n",
       "</table>\n",
       "</div>"
      ],
      "text/plain": [
       "  gender              scheduledday  age      neighbourhood  scholarship  \\\n",
       "0      F 2016-04-29 18:38:08+00:00   62    JARDIM DA PENHA            0   \n",
       "1      M 2016-04-29 16:08:27+00:00   56    JARDIM DA PENHA            0   \n",
       "2      F 2016-04-29 16:19:04+00:00   62      MATA DA PRAIA            0   \n",
       "3      F 2016-04-29 17:29:31+00:00    8  PONTAL DE CAMBURI            0   \n",
       "4      F 2016-04-29 16:07:23+00:00   56    JARDIM DA PENHA            0   \n",
       "\n",
       "   hipertension  diabetes  alcoholism  handicap  sms_received no_show  \n",
       "0             1         0           0         0             0      No  \n",
       "1             0         0           0         0             0      No  \n",
       "2             0         0           0         0             0      No  \n",
       "3             0         0           0         0             0      No  \n",
       "4             1         1           0         0             0      No  "
      ]
     },
     "execution_count": 17,
     "metadata": {},
     "output_type": "execute_result"
    }
   ],
   "source": [
    "#confirm changes made\n",
    "df_doc_appt.info()\n",
    "df_doc_appt.head()"
   ]
  },
  {
   "cell_type": "markdown",
   "id": "d69d01a1",
   "metadata": {},
   "source": [
    "#### From the review above, age contains inappropriate value '0' and '-1'. Reviewing the properties would determine if the rows with this information can be dropped or not."
   ]
  },
  {
   "cell_type": "code",
   "execution_count": 18,
   "id": "61ef3b34",
   "metadata": {},
   "outputs": [
    {
     "data": {
      "text/plain": [
       "gender           3539\n",
       "scheduledday     3539\n",
       "age              3539\n",
       "neighbourhood    3539\n",
       "scholarship      3539\n",
       "hipertension     3539\n",
       "diabetes         3539\n",
       "alcoholism       3539\n",
       "handicap         3539\n",
       "sms_received     3539\n",
       "no_show          3539\n",
       "dtype: int64"
      ]
     },
     "execution_count": 18,
     "metadata": {},
     "output_type": "execute_result"
    }
   ],
   "source": [
    "#The count of the rows with '0' as age\n",
    "df_doc_appt.query('age == 0').count()"
   ]
  },
  {
   "cell_type": "code",
   "execution_count": 19,
   "id": "7cf6080d",
   "metadata": {},
   "outputs": [],
   "source": [
    "#Assign the df to a new dataframe\n",
    "df_zero_age = df_doc_appt.query('age == 0')"
   ]
  },
  {
   "cell_type": "code",
   "execution_count": 20,
   "id": "925fb1a3",
   "metadata": {
    "scrolled": true
   },
   "outputs": [
    {
     "data": {
      "text/html": [
       "<div>\n",
       "<style scoped>\n",
       "    .dataframe tbody tr th:only-of-type {\n",
       "        vertical-align: middle;\n",
       "    }\n",
       "\n",
       "    .dataframe tbody tr th {\n",
       "        vertical-align: top;\n",
       "    }\n",
       "\n",
       "    .dataframe thead th {\n",
       "        text-align: right;\n",
       "    }\n",
       "</style>\n",
       "<table border=\"1\" class=\"dataframe\">\n",
       "  <thead>\n",
       "    <tr style=\"text-align: right;\">\n",
       "      <th></th>\n",
       "      <th>gender</th>\n",
       "      <th>scheduledday</th>\n",
       "      <th>age</th>\n",
       "      <th>neighbourhood</th>\n",
       "      <th>scholarship</th>\n",
       "      <th>hipertension</th>\n",
       "      <th>diabetes</th>\n",
       "      <th>alcoholism</th>\n",
       "      <th>handicap</th>\n",
       "      <th>sms_received</th>\n",
       "      <th>no_show</th>\n",
       "    </tr>\n",
       "  </thead>\n",
       "  <tbody>\n",
       "    <tr>\n",
       "      <th>59</th>\n",
       "      <td>F</td>\n",
       "      <td>2016-04-29 08:08:43+00:00</td>\n",
       "      <td>0</td>\n",
       "      <td>CONQUISTA</td>\n",
       "      <td>0</td>\n",
       "      <td>0</td>\n",
       "      <td>0</td>\n",
       "      <td>0</td>\n",
       "      <td>0</td>\n",
       "      <td>0</td>\n",
       "      <td>No</td>\n",
       "    </tr>\n",
       "    <tr>\n",
       "      <th>63</th>\n",
       "      <td>M</td>\n",
       "      <td>2016-04-27 10:46:12+00:00</td>\n",
       "      <td>0</td>\n",
       "      <td>SÃO BENEDITO</td>\n",
       "      <td>0</td>\n",
       "      <td>0</td>\n",
       "      <td>0</td>\n",
       "      <td>0</td>\n",
       "      <td>0</td>\n",
       "      <td>0</td>\n",
       "      <td>No</td>\n",
       "    </tr>\n",
       "    <tr>\n",
       "      <th>64</th>\n",
       "      <td>M</td>\n",
       "      <td>2016-04-25 13:28:21+00:00</td>\n",
       "      <td>0</td>\n",
       "      <td>ILHA DAS CAIEIRAS</td>\n",
       "      <td>0</td>\n",
       "      <td>0</td>\n",
       "      <td>0</td>\n",
       "      <td>0</td>\n",
       "      <td>0</td>\n",
       "      <td>1</td>\n",
       "      <td>No</td>\n",
       "    </tr>\n",
       "    <tr>\n",
       "      <th>65</th>\n",
       "      <td>M</td>\n",
       "      <td>2016-04-27 10:48:50+00:00</td>\n",
       "      <td>0</td>\n",
       "      <td>CONQUISTA</td>\n",
       "      <td>0</td>\n",
       "      <td>0</td>\n",
       "      <td>0</td>\n",
       "      <td>0</td>\n",
       "      <td>0</td>\n",
       "      <td>0</td>\n",
       "      <td>No</td>\n",
       "    </tr>\n",
       "    <tr>\n",
       "      <th>67</th>\n",
       "      <td>F</td>\n",
       "      <td>2016-04-29 08:53:02+00:00</td>\n",
       "      <td>0</td>\n",
       "      <td>NOVA PALESTINA</td>\n",
       "      <td>0</td>\n",
       "      <td>0</td>\n",
       "      <td>0</td>\n",
       "      <td>0</td>\n",
       "      <td>0</td>\n",
       "      <td>0</td>\n",
       "      <td>No</td>\n",
       "    </tr>\n",
       "  </tbody>\n",
       "</table>\n",
       "</div>"
      ],
      "text/plain": [
       "   gender              scheduledday  age      neighbourhood  scholarship  \\\n",
       "59      F 2016-04-29 08:08:43+00:00    0          CONQUISTA            0   \n",
       "63      M 2016-04-27 10:46:12+00:00    0       SÃO BENEDITO            0   \n",
       "64      M 2016-04-25 13:28:21+00:00    0  ILHA DAS CAIEIRAS            0   \n",
       "65      M 2016-04-27 10:48:50+00:00    0          CONQUISTA            0   \n",
       "67      F 2016-04-29 08:53:02+00:00    0     NOVA PALESTINA            0   \n",
       "\n",
       "    hipertension  diabetes  alcoholism  handicap  sms_received no_show  \n",
       "59             0         0           0         0             0      No  \n",
       "63             0         0           0         0             0      No  \n",
       "64             0         0           0         0             1      No  \n",
       "65             0         0           0         0             0      No  \n",
       "67             0         0           0         0             0      No  "
      ]
     },
     "execution_count": 20,
     "metadata": {},
     "output_type": "execute_result"
    }
   ],
   "source": [
    "#review a sample of the data\n",
    "df_zero_age.head()"
   ]
  },
  {
   "cell_type": "code",
   "execution_count": 21,
   "id": "cf008a38",
   "metadata": {},
   "outputs": [
    {
     "data": {
      "text/html": [
       "<div>\n",
       "<style scoped>\n",
       "    .dataframe tbody tr th:only-of-type {\n",
       "        vertical-align: middle;\n",
       "    }\n",
       "\n",
       "    .dataframe tbody tr th {\n",
       "        vertical-align: top;\n",
       "    }\n",
       "\n",
       "    .dataframe thead th {\n",
       "        text-align: right;\n",
       "    }\n",
       "</style>\n",
       "<table border=\"1\" class=\"dataframe\">\n",
       "  <thead>\n",
       "    <tr style=\"text-align: right;\">\n",
       "      <th></th>\n",
       "      <th>gender</th>\n",
       "      <th>scheduledday</th>\n",
       "      <th>age</th>\n",
       "      <th>neighbourhood</th>\n",
       "      <th>scholarship</th>\n",
       "      <th>hipertension</th>\n",
       "      <th>diabetes</th>\n",
       "      <th>alcoholism</th>\n",
       "      <th>handicap</th>\n",
       "      <th>sms_received</th>\n",
       "      <th>no_show</th>\n",
       "    </tr>\n",
       "  </thead>\n",
       "  <tbody>\n",
       "    <tr>\n",
       "      <th>65881</th>\n",
       "      <td>M</td>\n",
       "      <td>2016-05-24 10:41:42+00:00</td>\n",
       "      <td>0</td>\n",
       "      <td>JARDIM CAMBURI</td>\n",
       "      <td>0</td>\n",
       "      <td>0</td>\n",
       "      <td>0</td>\n",
       "      <td>0</td>\n",
       "      <td>0</td>\n",
       "      <td>0</td>\n",
       "      <td>No</td>\n",
       "    </tr>\n",
       "    <tr>\n",
       "      <th>99916</th>\n",
       "      <td>F</td>\n",
       "      <td>2016-05-31 14:42:30+00:00</td>\n",
       "      <td>0</td>\n",
       "      <td>RESISTÊNCIA</td>\n",
       "      <td>0</td>\n",
       "      <td>0</td>\n",
       "      <td>0</td>\n",
       "      <td>0</td>\n",
       "      <td>0</td>\n",
       "      <td>1</td>\n",
       "      <td>No</td>\n",
       "    </tr>\n",
       "    <tr>\n",
       "      <th>31514</th>\n",
       "      <td>F</td>\n",
       "      <td>2016-04-20 06:54:04+00:00</td>\n",
       "      <td>0</td>\n",
       "      <td>VILA RUBIM</td>\n",
       "      <td>1</td>\n",
       "      <td>0</td>\n",
       "      <td>0</td>\n",
       "      <td>0</td>\n",
       "      <td>0</td>\n",
       "      <td>1</td>\n",
       "      <td>No</td>\n",
       "    </tr>\n",
       "    <tr>\n",
       "      <th>105547</th>\n",
       "      <td>M</td>\n",
       "      <td>2016-06-01 11:29:12+00:00</td>\n",
       "      <td>0</td>\n",
       "      <td>JOANA D´ARC</td>\n",
       "      <td>0</td>\n",
       "      <td>0</td>\n",
       "      <td>0</td>\n",
       "      <td>0</td>\n",
       "      <td>0</td>\n",
       "      <td>0</td>\n",
       "      <td>No</td>\n",
       "    </tr>\n",
       "    <tr>\n",
       "      <th>20028</th>\n",
       "      <td>M</td>\n",
       "      <td>2016-05-05 10:27:02+00:00</td>\n",
       "      <td>0</td>\n",
       "      <td>BELA VISTA</td>\n",
       "      <td>0</td>\n",
       "      <td>0</td>\n",
       "      <td>0</td>\n",
       "      <td>0</td>\n",
       "      <td>0</td>\n",
       "      <td>0</td>\n",
       "      <td>No</td>\n",
       "    </tr>\n",
       "    <tr>\n",
       "      <th>97507</th>\n",
       "      <td>F</td>\n",
       "      <td>2016-05-24 16:06:12+00:00</td>\n",
       "      <td>0</td>\n",
       "      <td>REDENÇÃO</td>\n",
       "      <td>0</td>\n",
       "      <td>0</td>\n",
       "      <td>0</td>\n",
       "      <td>0</td>\n",
       "      <td>0</td>\n",
       "      <td>1</td>\n",
       "      <td>No</td>\n",
       "    </tr>\n",
       "    <tr>\n",
       "      <th>93288</th>\n",
       "      <td>F</td>\n",
       "      <td>2016-06-03 10:05:57+00:00</td>\n",
       "      <td>0</td>\n",
       "      <td>SANTO ANDRÉ</td>\n",
       "      <td>0</td>\n",
       "      <td>0</td>\n",
       "      <td>0</td>\n",
       "      <td>0</td>\n",
       "      <td>0</td>\n",
       "      <td>0</td>\n",
       "      <td>No</td>\n",
       "    </tr>\n",
       "    <tr>\n",
       "      <th>1220</th>\n",
       "      <td>M</td>\n",
       "      <td>2016-04-19 14:16:01+00:00</td>\n",
       "      <td>0</td>\n",
       "      <td>JABOUR</td>\n",
       "      <td>0</td>\n",
       "      <td>0</td>\n",
       "      <td>0</td>\n",
       "      <td>0</td>\n",
       "      <td>0</td>\n",
       "      <td>1</td>\n",
       "      <td>No</td>\n",
       "    </tr>\n",
       "    <tr>\n",
       "      <th>91749</th>\n",
       "      <td>F</td>\n",
       "      <td>2016-05-30 10:54:38+00:00</td>\n",
       "      <td>0</td>\n",
       "      <td>NOVA PALESTINA</td>\n",
       "      <td>0</td>\n",
       "      <td>0</td>\n",
       "      <td>0</td>\n",
       "      <td>0</td>\n",
       "      <td>0</td>\n",
       "      <td>1</td>\n",
       "      <td>No</td>\n",
       "    </tr>\n",
       "    <tr>\n",
       "      <th>74034</th>\n",
       "      <td>F</td>\n",
       "      <td>2016-05-11 13:24:39+00:00</td>\n",
       "      <td>0</td>\n",
       "      <td>SÃO PEDRO</td>\n",
       "      <td>0</td>\n",
       "      <td>0</td>\n",
       "      <td>0</td>\n",
       "      <td>0</td>\n",
       "      <td>0</td>\n",
       "      <td>0</td>\n",
       "      <td>No</td>\n",
       "    </tr>\n",
       "  </tbody>\n",
       "</table>\n",
       "</div>"
      ],
      "text/plain": [
       "       gender              scheduledday  age   neighbourhood  scholarship  \\\n",
       "65881       M 2016-05-24 10:41:42+00:00    0  JARDIM CAMBURI            0   \n",
       "99916       F 2016-05-31 14:42:30+00:00    0     RESISTÊNCIA            0   \n",
       "31514       F 2016-04-20 06:54:04+00:00    0      VILA RUBIM            1   \n",
       "105547      M 2016-06-01 11:29:12+00:00    0     JOANA D´ARC            0   \n",
       "20028       M 2016-05-05 10:27:02+00:00    0      BELA VISTA            0   \n",
       "97507       F 2016-05-24 16:06:12+00:00    0        REDENÇÃO            0   \n",
       "93288       F 2016-06-03 10:05:57+00:00    0     SANTO ANDRÉ            0   \n",
       "1220        M 2016-04-19 14:16:01+00:00    0          JABOUR            0   \n",
       "91749       F 2016-05-30 10:54:38+00:00    0  NOVA PALESTINA            0   \n",
       "74034       F 2016-05-11 13:24:39+00:00    0       SÃO PEDRO            0   \n",
       "\n",
       "        hipertension  diabetes  alcoholism  handicap  sms_received no_show  \n",
       "65881              0         0           0         0             0      No  \n",
       "99916              0         0           0         0             1      No  \n",
       "31514              0         0           0         0             1      No  \n",
       "105547             0         0           0         0             0      No  \n",
       "20028              0         0           0         0             0      No  \n",
       "97507              0         0           0         0             1      No  \n",
       "93288              0         0           0         0             0      No  \n",
       "1220               0         0           0         0             1      No  \n",
       "91749              0         0           0         0             1      No  \n",
       "74034              0         0           0         0             0      No  "
      ]
     },
     "execution_count": 21,
     "metadata": {},
     "output_type": "execute_result"
    }
   ],
   "source": [
    "df_zero_age.sample(10)"
   ]
  },
  {
   "cell_type": "code",
   "execution_count": 22,
   "id": "6f8e2e65",
   "metadata": {},
   "outputs": [
    {
     "data": {
      "text/html": [
       "<div>\n",
       "<style scoped>\n",
       "    .dataframe tbody tr th:only-of-type {\n",
       "        vertical-align: middle;\n",
       "    }\n",
       "\n",
       "    .dataframe tbody tr th {\n",
       "        vertical-align: top;\n",
       "    }\n",
       "\n",
       "    .dataframe thead th {\n",
       "        text-align: right;\n",
       "    }\n",
       "</style>\n",
       "<table border=\"1\" class=\"dataframe\">\n",
       "  <thead>\n",
       "    <tr style=\"text-align: right;\">\n",
       "      <th></th>\n",
       "      <th></th>\n",
       "      <th>scheduledday</th>\n",
       "      <th>age</th>\n",
       "      <th>neighbourhood</th>\n",
       "      <th>scholarship</th>\n",
       "      <th>hipertension</th>\n",
       "      <th>diabetes</th>\n",
       "      <th>alcoholism</th>\n",
       "      <th>handicap</th>\n",
       "      <th>sms_received</th>\n",
       "    </tr>\n",
       "    <tr>\n",
       "      <th>no_show</th>\n",
       "      <th>gender</th>\n",
       "      <th></th>\n",
       "      <th></th>\n",
       "      <th></th>\n",
       "      <th></th>\n",
       "      <th></th>\n",
       "      <th></th>\n",
       "      <th></th>\n",
       "      <th></th>\n",
       "      <th></th>\n",
       "    </tr>\n",
       "  </thead>\n",
       "  <tbody>\n",
       "    <tr>\n",
       "      <th rowspan=\"2\" valign=\"top\">No</th>\n",
       "      <th>F</th>\n",
       "      <td>1402</td>\n",
       "      <td>1402</td>\n",
       "      <td>1402</td>\n",
       "      <td>1402</td>\n",
       "      <td>1402</td>\n",
       "      <td>1402</td>\n",
       "      <td>1402</td>\n",
       "      <td>1402</td>\n",
       "      <td>1402</td>\n",
       "    </tr>\n",
       "    <tr>\n",
       "      <th>M</th>\n",
       "      <td>1498</td>\n",
       "      <td>1498</td>\n",
       "      <td>1498</td>\n",
       "      <td>1498</td>\n",
       "      <td>1498</td>\n",
       "      <td>1498</td>\n",
       "      <td>1498</td>\n",
       "      <td>1498</td>\n",
       "      <td>1498</td>\n",
       "    </tr>\n",
       "    <tr>\n",
       "      <th rowspan=\"2\" valign=\"top\">Yes</th>\n",
       "      <th>F</th>\n",
       "      <td>319</td>\n",
       "      <td>319</td>\n",
       "      <td>319</td>\n",
       "      <td>319</td>\n",
       "      <td>319</td>\n",
       "      <td>319</td>\n",
       "      <td>319</td>\n",
       "      <td>319</td>\n",
       "      <td>319</td>\n",
       "    </tr>\n",
       "    <tr>\n",
       "      <th>M</th>\n",
       "      <td>320</td>\n",
       "      <td>320</td>\n",
       "      <td>320</td>\n",
       "      <td>320</td>\n",
       "      <td>320</td>\n",
       "      <td>320</td>\n",
       "      <td>320</td>\n",
       "      <td>320</td>\n",
       "      <td>320</td>\n",
       "    </tr>\n",
       "  </tbody>\n",
       "</table>\n",
       "</div>"
      ],
      "text/plain": [
       "                scheduledday   age  neighbourhood  scholarship  hipertension  \\\n",
       "no_show gender                                                                 \n",
       "No      F               1402  1402           1402         1402          1402   \n",
       "        M               1498  1498           1498         1498          1498   \n",
       "Yes     F                319   319            319          319           319   \n",
       "        M                320   320            320          320           320   \n",
       "\n",
       "                diabetes  alcoholism  handicap  sms_received  \n",
       "no_show gender                                                \n",
       "No      F           1402        1402      1402          1402  \n",
       "        M           1498        1498      1498          1498  \n",
       "Yes     F            319         319       319           319  \n",
       "        M            320         320       320           320  "
      ]
     },
     "execution_count": 22,
     "metadata": {},
     "output_type": "execute_result"
    }
   ],
   "source": [
    "df_zero_age.groupby(['no_show','gender']).count()"
   ]
  },
  {
   "cell_type": "markdown",
   "id": "518595d7",
   "metadata": {},
   "source": [
    "#### A sizeable number of the entries had zero has age and were present for their appointments,dropping them might affect the quality of the analysis. Hence we would be replacing the values with the mean age values for the purpose of this analysis."
   ]
  },
  {
   "cell_type": "code",
   "execution_count": 23,
   "id": "a16f8e64",
   "metadata": {},
   "outputs": [],
   "source": [
    "#Replace the inapropriate values with the mean and round to ensure age is a whole figure\n",
    "mean_age = df_doc_appt['age'].mean()\n",
    "df_doc_appt['age'].replace([0,-1],mean_age,inplace = True)\n",
    "df_doc_appt['age'] = df_doc_appt['age'].round()"
   ]
  },
  {
   "cell_type": "code",
   "execution_count": 24,
   "id": "3d227104",
   "metadata": {},
   "outputs": [
    {
     "data": {
      "text/plain": [
       "102"
      ]
     },
     "execution_count": 24,
     "metadata": {},
     "output_type": "execute_result"
    }
   ],
   "source": [
    "#Review the corrections\n",
    "df_doc_appt['age'].unique()\n",
    "df_doc_appt['age'].nunique()"
   ]
  },
  {
   "cell_type": "code",
   "execution_count": 25,
   "id": "08ad55be",
   "metadata": {},
   "outputs": [
    {
     "name": "stdout",
     "output_type": "stream",
     "text": [
      "<class 'pandas.core.frame.DataFrame'>\n",
      "RangeIndex: 110527 entries, 0 to 110526\n",
      "Data columns (total 11 columns):\n",
      " #   Column         Non-Null Count   Dtype              \n",
      "---  ------         --------------   -----              \n",
      " 0   gender         110527 non-null  object             \n",
      " 1   scheduledday   110527 non-null  datetime64[ns, UTC]\n",
      " 2   age            110527 non-null  float64            \n",
      " 3   neighbourhood  110527 non-null  object             \n",
      " 4   scholarship    110527 non-null  int64              \n",
      " 5   hipertension   110527 non-null  int64              \n",
      " 6   diabetes       110527 non-null  int64              \n",
      " 7   alcoholism     110527 non-null  int64              \n",
      " 8   handicap       110527 non-null  int64              \n",
      " 9   sms_received   110527 non-null  int64              \n",
      " 10  no_show        110527 non-null  object             \n",
      "dtypes: datetime64[ns, UTC](1), float64(1), int64(6), object(3)\n",
      "memory usage: 9.3+ MB\n"
     ]
    }
   ],
   "source": [
    "df_doc_appt.info()"
   ]
  },
  {
   "cell_type": "markdown",
   "id": "4f2f9f3d",
   "metadata": {},
   "source": [
    "#### Age format is now a float and needs to be converted to an int for uniformity"
   ]
  },
  {
   "cell_type": "code",
   "execution_count": 26,
   "id": "a8df72ae",
   "metadata": {},
   "outputs": [],
   "source": [
    "df_doc_appt['age'] = df_doc_appt.age.astype(int)"
   ]
  },
  {
   "cell_type": "code",
   "execution_count": 27,
   "id": "b87c871a",
   "metadata": {},
   "outputs": [
    {
     "name": "stdout",
     "output_type": "stream",
     "text": [
      "<class 'pandas.core.frame.DataFrame'>\n",
      "RangeIndex: 110527 entries, 0 to 110526\n",
      "Data columns (total 11 columns):\n",
      " #   Column         Non-Null Count   Dtype              \n",
      "---  ------         --------------   -----              \n",
      " 0   gender         110527 non-null  object             \n",
      " 1   scheduledday   110527 non-null  datetime64[ns, UTC]\n",
      " 2   age            110527 non-null  int32              \n",
      " 3   neighbourhood  110527 non-null  object             \n",
      " 4   scholarship    110527 non-null  int64              \n",
      " 5   hipertension   110527 non-null  int64              \n",
      " 6   diabetes       110527 non-null  int64              \n",
      " 7   alcoholism     110527 non-null  int64              \n",
      " 8   handicap       110527 non-null  int64              \n",
      " 9   sms_received   110527 non-null  int64              \n",
      " 10  no_show        110527 non-null  object             \n",
      "dtypes: datetime64[ns, UTC](1), int32(1), int64(6), object(3)\n",
      "memory usage: 8.9+ MB\n"
     ]
    }
   ],
   "source": [
    "#confirm changes\n",
    "df_doc_appt.info()"
   ]
  },
  {
   "cell_type": "code",
   "execution_count": 28,
   "id": "d4012557",
   "metadata": {},
   "outputs": [
    {
     "data": {
      "text/html": [
       "<div>\n",
       "<style scoped>\n",
       "    .dataframe tbody tr th:only-of-type {\n",
       "        vertical-align: middle;\n",
       "    }\n",
       "\n",
       "    .dataframe tbody tr th {\n",
       "        vertical-align: top;\n",
       "    }\n",
       "\n",
       "    .dataframe thead th {\n",
       "        text-align: right;\n",
       "    }\n",
       "</style>\n",
       "<table border=\"1\" class=\"dataframe\">\n",
       "  <thead>\n",
       "    <tr style=\"text-align: right;\">\n",
       "      <th></th>\n",
       "      <th>gender</th>\n",
       "      <th>scheduledday</th>\n",
       "      <th>age</th>\n",
       "      <th>neighbourhood</th>\n",
       "      <th>scholarship</th>\n",
       "      <th>hipertension</th>\n",
       "      <th>diabetes</th>\n",
       "      <th>alcoholism</th>\n",
       "      <th>handicap</th>\n",
       "      <th>sms_received</th>\n",
       "      <th>no_show</th>\n",
       "    </tr>\n",
       "  </thead>\n",
       "  <tbody>\n",
       "    <tr>\n",
       "      <th>0</th>\n",
       "      <td>F</td>\n",
       "      <td>2016-04-29 18:38:08+00:00</td>\n",
       "      <td>62</td>\n",
       "      <td>JARDIM DA PENHA</td>\n",
       "      <td>0</td>\n",
       "      <td>1</td>\n",
       "      <td>0</td>\n",
       "      <td>0</td>\n",
       "      <td>0</td>\n",
       "      <td>0</td>\n",
       "      <td>No</td>\n",
       "    </tr>\n",
       "    <tr>\n",
       "      <th>1</th>\n",
       "      <td>M</td>\n",
       "      <td>2016-04-29 16:08:27+00:00</td>\n",
       "      <td>56</td>\n",
       "      <td>JARDIM DA PENHA</td>\n",
       "      <td>0</td>\n",
       "      <td>0</td>\n",
       "      <td>0</td>\n",
       "      <td>0</td>\n",
       "      <td>0</td>\n",
       "      <td>0</td>\n",
       "      <td>No</td>\n",
       "    </tr>\n",
       "    <tr>\n",
       "      <th>2</th>\n",
       "      <td>F</td>\n",
       "      <td>2016-04-29 16:19:04+00:00</td>\n",
       "      <td>62</td>\n",
       "      <td>MATA DA PRAIA</td>\n",
       "      <td>0</td>\n",
       "      <td>0</td>\n",
       "      <td>0</td>\n",
       "      <td>0</td>\n",
       "      <td>0</td>\n",
       "      <td>0</td>\n",
       "      <td>No</td>\n",
       "    </tr>\n",
       "    <tr>\n",
       "      <th>3</th>\n",
       "      <td>F</td>\n",
       "      <td>2016-04-29 17:29:31+00:00</td>\n",
       "      <td>8</td>\n",
       "      <td>PONTAL DE CAMBURI</td>\n",
       "      <td>0</td>\n",
       "      <td>0</td>\n",
       "      <td>0</td>\n",
       "      <td>0</td>\n",
       "      <td>0</td>\n",
       "      <td>0</td>\n",
       "      <td>No</td>\n",
       "    </tr>\n",
       "    <tr>\n",
       "      <th>4</th>\n",
       "      <td>F</td>\n",
       "      <td>2016-04-29 16:07:23+00:00</td>\n",
       "      <td>56</td>\n",
       "      <td>JARDIM DA PENHA</td>\n",
       "      <td>0</td>\n",
       "      <td>1</td>\n",
       "      <td>1</td>\n",
       "      <td>0</td>\n",
       "      <td>0</td>\n",
       "      <td>0</td>\n",
       "      <td>No</td>\n",
       "    </tr>\n",
       "  </tbody>\n",
       "</table>\n",
       "</div>"
      ],
      "text/plain": [
       "  gender              scheduledday  age      neighbourhood  scholarship  \\\n",
       "0      F 2016-04-29 18:38:08+00:00   62    JARDIM DA PENHA            0   \n",
       "1      M 2016-04-29 16:08:27+00:00   56    JARDIM DA PENHA            0   \n",
       "2      F 2016-04-29 16:19:04+00:00   62      MATA DA PRAIA            0   \n",
       "3      F 2016-04-29 17:29:31+00:00    8  PONTAL DE CAMBURI            0   \n",
       "4      F 2016-04-29 16:07:23+00:00   56    JARDIM DA PENHA            0   \n",
       "\n",
       "   hipertension  diabetes  alcoholism  handicap  sms_received no_show  \n",
       "0             1         0           0         0             0      No  \n",
       "1             0         0           0         0             0      No  \n",
       "2             0         0           0         0             0      No  \n",
       "3             0         0           0         0             0      No  \n",
       "4             1         1           0         0             0      No  "
      ]
     },
     "execution_count": 28,
     "metadata": {},
     "output_type": "execute_result"
    }
   ],
   "source": [
    "df_doc_appt.head()"
   ]
  },
  {
   "cell_type": "code",
   "execution_count": 29,
   "id": "d791475c",
   "metadata": {},
   "outputs": [
    {
     "data": {
      "image/png": "[encoded data removed]",
      "text/plain": [
       "<Figure size 720x720 with 9 Axes>"
      ]
     },
     "metadata": {
      "needs_background": "light"
     },
     "output_type": "display_data"
    }
   ],
   "source": [
    "df_doc_appt.hist(figsize = (10,10));"
   ]
  },
  {
   "cell_type": "code",
   "execution_count": 30,
   "id": "3af93cd8",
   "metadata": {},
   "outputs": [
    {
     "data": {
      "text/html": [
       "<div>\n",
       "<style scoped>\n",
       "    .dataframe tbody tr th:only-of-type {\n",
       "        vertical-align: middle;\n",
       "    }\n",
       "\n",
       "    .dataframe tbody tr th {\n",
       "        vertical-align: top;\n",
       "    }\n",
       "\n",
       "    .dataframe thead th {\n",
       "        text-align: right;\n",
       "    }\n",
       "</style>\n",
       "<table border=\"1\" class=\"dataframe\">\n",
       "  <thead>\n",
       "    <tr style=\"text-align: right;\">\n",
       "      <th></th>\n",
       "      <th>age</th>\n",
       "      <th>scholarship</th>\n",
       "      <th>hipertension</th>\n",
       "      <th>diabetes</th>\n",
       "      <th>alcoholism</th>\n",
       "      <th>handicap</th>\n",
       "      <th>sms_received</th>\n",
       "    </tr>\n",
       "  </thead>\n",
       "  <tbody>\n",
       "    <tr>\n",
       "      <th>count</th>\n",
       "      <td>110527.000000</td>\n",
       "      <td>110527.000000</td>\n",
       "      <td>110527.000000</td>\n",
       "      <td>110527.000000</td>\n",
       "      <td>110527.000000</td>\n",
       "      <td>110527.000000</td>\n",
       "      <td>110527.000000</td>\n",
       "    </tr>\n",
       "    <tr>\n",
       "      <th>mean</th>\n",
       "      <td>38.273933</td>\n",
       "      <td>0.098266</td>\n",
       "      <td>0.197246</td>\n",
       "      <td>0.071865</td>\n",
       "      <td>0.030400</td>\n",
       "      <td>0.020276</td>\n",
       "      <td>0.321026</td>\n",
       "    </tr>\n",
       "    <tr>\n",
       "      <th>std</th>\n",
       "      <td>22.104720</td>\n",
       "      <td>0.297675</td>\n",
       "      <td>0.397921</td>\n",
       "      <td>0.258265</td>\n",
       "      <td>0.171686</td>\n",
       "      <td>0.140942</td>\n",
       "      <td>0.466873</td>\n",
       "    </tr>\n",
       "    <tr>\n",
       "      <th>min</th>\n",
       "      <td>1.000000</td>\n",
       "      <td>0.000000</td>\n",
       "      <td>0.000000</td>\n",
       "      <td>0.000000</td>\n",
       "      <td>0.000000</td>\n",
       "      <td>0.000000</td>\n",
       "      <td>0.000000</td>\n",
       "    </tr>\n",
       "    <tr>\n",
       "      <th>25%</th>\n",
       "      <td>20.000000</td>\n",
       "      <td>0.000000</td>\n",
       "      <td>0.000000</td>\n",
       "      <td>0.000000</td>\n",
       "      <td>0.000000</td>\n",
       "      <td>0.000000</td>\n",
       "      <td>0.000000</td>\n",
       "    </tr>\n",
       "    <tr>\n",
       "      <th>50%</th>\n",
       "      <td>37.000000</td>\n",
       "      <td>0.000000</td>\n",
       "      <td>0.000000</td>\n",
       "      <td>0.000000</td>\n",
       "      <td>0.000000</td>\n",
       "      <td>0.000000</td>\n",
       "      <td>0.000000</td>\n",
       "    </tr>\n",
       "    <tr>\n",
       "      <th>75%</th>\n",
       "      <td>55.000000</td>\n",
       "      <td>0.000000</td>\n",
       "      <td>0.000000</td>\n",
       "      <td>0.000000</td>\n",
       "      <td>0.000000</td>\n",
       "      <td>0.000000</td>\n",
       "      <td>1.000000</td>\n",
       "    </tr>\n",
       "    <tr>\n",
       "      <th>max</th>\n",
       "      <td>115.000000</td>\n",
       "      <td>1.000000</td>\n",
       "      <td>1.000000</td>\n",
       "      <td>1.000000</td>\n",
       "      <td>1.000000</td>\n",
       "      <td>1.000000</td>\n",
       "      <td>1.000000</td>\n",
       "    </tr>\n",
       "  </tbody>\n",
       "</table>\n",
       "</div>"
      ],
      "text/plain": [
       "                 age    scholarship   hipertension       diabetes  \\\n",
       "count  110527.000000  110527.000000  110527.000000  110527.000000   \n",
       "mean       38.273933       0.098266       0.197246       0.071865   \n",
       "std        22.104720       0.297675       0.397921       0.258265   \n",
       "min         1.000000       0.000000       0.000000       0.000000   \n",
       "25%        20.000000       0.000000       0.000000       0.000000   \n",
       "50%        37.000000       0.000000       0.000000       0.000000   \n",
       "75%        55.000000       0.000000       0.000000       0.000000   \n",
       "max       115.000000       1.000000       1.000000       1.000000   \n",
       "\n",
       "          alcoholism       handicap   sms_received  \n",
       "count  110527.000000  110527.000000  110527.000000  \n",
       "mean        0.030400       0.020276       0.321026  \n",
       "std         0.171686       0.140942       0.466873  \n",
       "min         0.000000       0.000000       0.000000  \n",
       "25%         0.000000       0.000000       0.000000  \n",
       "50%         0.000000       0.000000       0.000000  \n",
       "75%         0.000000       0.000000       1.000000  \n",
       "max         1.000000       1.000000       1.000000  "
      ]
     },
     "execution_count": 30,
     "metadata": {},
     "output_type": "execute_result"
    }
   ],
   "source": [
    "df_doc_appt.describe()"
   ]
  },
  {
   "cell_type": "markdown",
   "id": "e5ba3eb6",
   "metadata": {},
   "source": [
    "<a id='eda'></a>\n",
    "## Exploratory Data Analysis"
   ]
  },
  {
   "cell_type": "markdown",
   "id": "0c3247f9",
   "metadata": {},
   "source": [
    "#### For easier analysis i would creating a colunm for age distribution, this would help keep the analysis clean and compact"
   ]
  },
  {
   "cell_type": "code",
   "execution_count": 31,
   "id": "734711f9",
   "metadata": {},
   "outputs": [],
   "source": [
    "#create an age range to better capture the age distribution\n",
    "bin_edges = [1,18,40,65,115]\n",
    "bin_names = ['young','adult','elderly','old']\n",
    "df_doc_appt['age_distribution'] =pd.cut(df_doc_appt['age'],bin_edges,labels = bin_names)"
   ]
  },
  {
   "cell_type": "code",
   "execution_count": 32,
   "id": "710792d3",
   "metadata": {},
   "outputs": [
    {
     "data": {
      "text/html": [
       "<div>\n",
       "<style scoped>\n",
       "    .dataframe tbody tr th:only-of-type {\n",
       "        vertical-align: middle;\n",
       "    }\n",
       "\n",
       "    .dataframe tbody tr th {\n",
       "        vertical-align: top;\n",
       "    }\n",
       "\n",
       "    .dataframe thead th {\n",
       "        text-align: right;\n",
       "    }\n",
       "</style>\n",
       "<table border=\"1\" class=\"dataframe\">\n",
       "  <thead>\n",
       "    <tr style=\"text-align: right;\">\n",
       "      <th></th>\n",
       "      <th>gender</th>\n",
       "      <th>scheduledday</th>\n",
       "      <th>age</th>\n",
       "      <th>neighbourhood</th>\n",
       "      <th>scholarship</th>\n",
       "      <th>hipertension</th>\n",
       "      <th>diabetes</th>\n",
       "      <th>alcoholism</th>\n",
       "      <th>handicap</th>\n",
       "      <th>sms_received</th>\n",
       "      <th>no_show</th>\n",
       "      <th>age_distribution</th>\n",
       "    </tr>\n",
       "  </thead>\n",
       "  <tbody>\n",
       "    <tr>\n",
       "      <th>0</th>\n",
       "      <td>F</td>\n",
       "      <td>2016-04-29 18:38:08+00:00</td>\n",
       "      <td>62</td>\n",
       "      <td>JARDIM DA PENHA</td>\n",
       "      <td>0</td>\n",
       "      <td>1</td>\n",
       "      <td>0</td>\n",
       "      <td>0</td>\n",
       "      <td>0</td>\n",
       "      <td>0</td>\n",
       "      <td>No</td>\n",
       "      <td>elderly</td>\n",
       "    </tr>\n",
       "    <tr>\n",
       "      <th>1</th>\n",
       "      <td>M</td>\n",
       "      <td>2016-04-29 16:08:27+00:00</td>\n",
       "      <td>56</td>\n",
       "      <td>JARDIM DA PENHA</td>\n",
       "      <td>0</td>\n",
       "      <td>0</td>\n",
       "      <td>0</td>\n",
       "      <td>0</td>\n",
       "      <td>0</td>\n",
       "      <td>0</td>\n",
       "      <td>No</td>\n",
       "      <td>elderly</td>\n",
       "    </tr>\n",
       "    <tr>\n",
       "      <th>2</th>\n",
       "      <td>F</td>\n",
       "      <td>2016-04-29 16:19:04+00:00</td>\n",
       "      <td>62</td>\n",
       "      <td>MATA DA PRAIA</td>\n",
       "      <td>0</td>\n",
       "      <td>0</td>\n",
       "      <td>0</td>\n",
       "      <td>0</td>\n",
       "      <td>0</td>\n",
       "      <td>0</td>\n",
       "      <td>No</td>\n",
       "      <td>elderly</td>\n",
       "    </tr>\n",
       "    <tr>\n",
       "      <th>3</th>\n",
       "      <td>F</td>\n",
       "      <td>2016-04-29 17:29:31+00:00</td>\n",
       "      <td>8</td>\n",
       "      <td>PONTAL DE CAMBURI</td>\n",
       "      <td>0</td>\n",
       "      <td>0</td>\n",
       "      <td>0</td>\n",
       "      <td>0</td>\n",
       "      <td>0</td>\n",
       "      <td>0</td>\n",
       "      <td>No</td>\n",
       "      <td>young</td>\n",
       "    </tr>\n",
       "    <tr>\n",
       "      <th>4</th>\n",
       "      <td>F</td>\n",
       "      <td>2016-04-29 16:07:23+00:00</td>\n",
       "      <td>56</td>\n",
       "      <td>JARDIM DA PENHA</td>\n",
       "      <td>0</td>\n",
       "      <td>1</td>\n",
       "      <td>1</td>\n",
       "      <td>0</td>\n",
       "      <td>0</td>\n",
       "      <td>0</td>\n",
       "      <td>No</td>\n",
       "      <td>elderly</td>\n",
       "    </tr>\n",
       "  </tbody>\n",
       "</table>\n",
       "</div>"
      ],
      "text/plain": [
       "  gender              scheduledday  age      neighbourhood  scholarship  \\\n",
       "0      F 2016-04-29 18:38:08+00:00   62    JARDIM DA PENHA            0   \n",
       "1      M 2016-04-29 16:08:27+00:00   56    JARDIM DA PENHA            0   \n",
       "2      F 2016-04-29 16:19:04+00:00   62      MATA DA PRAIA            0   \n",
       "3      F 2016-04-29 17:29:31+00:00    8  PONTAL DE CAMBURI            0   \n",
       "4      F 2016-04-29 16:07:23+00:00   56    JARDIM DA PENHA            0   \n",
       "\n",
       "   hipertension  diabetes  alcoholism  handicap  sms_received no_show  \\\n",
       "0             1         0           0         0             0      No   \n",
       "1             0         0           0         0             0      No   \n",
       "2             0         0           0         0             0      No   \n",
       "3             0         0           0         0             0      No   \n",
       "4             1         1           0         0             0      No   \n",
       "\n",
       "  age_distribution  \n",
       "0          elderly  \n",
       "1          elderly  \n",
       "2          elderly  \n",
       "3            young  \n",
       "4          elderly  "
      ]
     },
     "execution_count": 32,
     "metadata": {},
     "output_type": "execute_result"
    }
   ],
   "source": [
    "df_doc_appt.head()"
   ]
  },
  {
   "cell_type": "code",
   "execution_count": 33,
   "id": "3b417556",
   "metadata": {},
   "outputs": [],
   "source": [
    "#Define a function to plot my bar chart\n",
    "def plot_bar(count,title,xlabel,ylabel,ticks,labels):\n",
    "    plt.xticks(ticks,labels)\n",
    "    return count.plot.bar(xticks = ticks,title = title,xlabel = xlabel,ylabel =ylabel)"
   ]
  },
  {
   "cell_type": "code",
   "execution_count": 34,
   "id": "286b453d",
   "metadata": {},
   "outputs": [
    {
     "data": {
      "image/png": "[encoded data removed]",
      "text/plain": [
       "<Figure size 432x288 with 1 Axes>"
      ]
     },
     "metadata": {
      "needs_background": "light"
     },
     "output_type": "display_data"
    }
   ],
   "source": [
    "labels = ['Attendees','Absentees']\n",
    "xlabel = 'Attendance'\n",
    "ylabel = 'Count'\n",
    "title = 'Attendance'\n",
    "ticks = [0,1]\n",
    "count = df_doc_appt.no_show.value_counts()\n",
    "plot_bar(count,title,xlabel,ylabel,ticks,labels);"
   ]
  },
  {
   "cell_type": "markdown",
   "id": "e87c2171",
   "metadata": {},
   "source": [
    "#### The plot above reveals that more people attended their appointment.\n",
    "\n",
    "#### I would be reviewing how 'gender','age' and 'scholarship' contributes to this."
   ]
  },
  {
   "cell_type": "markdown",
   "id": "8d227ca2",
   "metadata": {},
   "source": [
    "#### Q1. Gender with the highest attendance rate."
   ]
  },
  {
   "cell_type": "code",
   "execution_count": 35,
   "id": "3893b66a",
   "metadata": {},
   "outputs": [
    {
     "data": {
      "text/plain": [
       "no_show  gender\n",
       "No       F         57246\n",
       "         M         30962\n",
       "Yes      F         14594\n",
       "         M          7725\n",
       "Name: gender, dtype: int64"
      ]
     },
     "execution_count": 35,
     "metadata": {},
     "output_type": "execute_result"
    }
   ],
   "source": [
    "#accessing how gender influences the attendance\n",
    "df_doc_appt.groupby('no_show')['gender'].value_counts()"
   ]
  },
  {
   "cell_type": "code",
   "execution_count": 36,
   "id": "23d0085c",
   "metadata": {},
   "outputs": [
    {
     "data": {
      "image/png": "[encoded data removed]",
      "text/plain": [
       "<Figure size 432x288 with 1 Axes>"
      ]
     },
     "metadata": {
      "needs_background": "light"
     },
     "output_type": "display_data"
    }
   ],
   "source": [
    "labels = ['Female Attendees','Male Attendees','Female Absentees','Male Absentees']\n",
    "xlabel = 'Attendance and Gender'\n",
    "ylabel = 'Count'\n",
    "title = 'Attendance by gender'\n",
    "ticks = [0,1,2,3]\n",
    "count = df_doc_appt.groupby('no_show')['gender'].value_counts()\n",
    "plot_bar(count,title,xlabel,ylabel,ticks,labels);"
   ]
  },
  {
   "cell_type": "markdown",
   "id": "beb496bb",
   "metadata": {},
   "source": [
    "#### The plot above reveals that we have more female attendees than mail attendees, but also more female absentees than male absentees. Looking at the count we can see that we have a considerably higher amount of females compared to males, this might be a reason for the result above.\n",
    "\n",
    "#### To have clearer inference i will be looking at the proportions of attendendance and absentism for each gender. This may also be the case for other features,therefore i'd be creating a function for this."
   ]
  },
  {
   "cell_type": "markdown",
   "id": "7cd2d55f",
   "metadata": {},
   "source": [
    "#### Q2. What Features are important to predict if a patient will be present or absent"
   ]
  },
  {
   "cell_type": "code",
   "execution_count": 37,
   "id": "5acfa129",
   "metadata": {},
   "outputs": [],
   "source": [
    "#Functions declaratio for proportions and proportions plot.\n",
    "def proportions(count,totals):\n",
    "    return count/totals\n",
    "def plot_prop_bar(value,ticks,labels,xlabel,ylabel,title):\n",
    "    plt.xticks(ticks,labels)\n",
    "    return value.plot.bar(xticks= ticks,title = title,color = colors,alpha = 0.5,xlabel =xlabel,ylabel=ylabel);"
   ]
  },
  {
   "cell_type": "code",
   "execution_count": 38,
   "id": "287bc233",
   "metadata": {},
   "outputs": [],
   "source": [
    "gender_count = df_doc_appt.groupby(['no_show','gender']).count()['handicap']"
   ]
  },
  {
   "cell_type": "code",
   "execution_count": 39,
   "id": "06f23e84",
   "metadata": {},
   "outputs": [],
   "source": [
    "gender_totals = df_doc_appt.groupby('gender').count()['handicap']"
   ]
  },
  {
   "cell_type": "code",
   "execution_count": 40,
   "id": "6299711c",
   "metadata": {},
   "outputs": [
    {
     "data": {
      "image/png": "[encoded data removed]",
      "text/plain": [
       "<Figure size 432x288 with 1 Axes>"
      ]
     },
     "metadata": {
      "needs_background": "light"
     },
     "output_type": "display_data"
    }
   ],
   "source": [
    "colors = ['pink','blue']\n",
    "labels = ['Female Attendees','Male Attendees','Female Absentees','Male Absentees']\n",
    "ticks = [0,1,2,3]\n",
    "xlabel = 'Gender and Attendance'\n",
    "ylabel = 'Proportions'\n",
    "title = 'Attendance by gender proportion'\n",
    "value = proportions(gender_count,gender_totals)\n",
    "plot_prop_bar(value,ticks,labels,xlabel,ylabel,title);"
   ]
  },
  {
   "cell_type": "markdown",
   "id": "b23524a0",
   "metadata": {},
   "source": [
    "#### The plot above shows that gender might not be a good indictaor of whether a patient would show or not, as the proportions related to the total are closely tied."
   ]
  },
  {
   "cell_type": "code",
   "execution_count": 41,
   "id": "fdbac332",
   "metadata": {
    "scrolled": false
   },
   "outputs": [
    {
     "data": {
      "text/plain": [
       "scholarship  no_show\n",
       "0            No         79925\n",
       "             Yes        19741\n",
       "1            No          8283\n",
       "             Yes         2578\n",
       "Name: no_show, dtype: int64"
      ]
     },
     "execution_count": 41,
     "metadata": {},
     "output_type": "execute_result"
    }
   ],
   "source": [
    "#accessing scholarship against attendance\n",
    "df_doc_appt.groupby('scholarship')['no_show'].value_counts()"
   ]
  },
  {
   "cell_type": "code",
   "execution_count": 57,
   "id": "41040524",
   "metadata": {
    "scrolled": true
   },
   "outputs": [
    {
     "data": {
      "image/png": "[encoded data removed]",
      "text/plain": [
       "<Figure size 432x288 with 1 Axes>"
      ]
     },
     "metadata": {},
     "output_type": "display_data"
    }
   ],
   "source": [
    "df_doc_appt.scholarship.value_counts().plot(kind = 'pie',legend = True,labeldistance = None,title = 'Proportion of scholarship', labels = ['without scholarship','with scholarship']);"
   ]
  },
  {
   "cell_type": "markdown",
   "id": "b847fa78",
   "metadata": {},
   "source": [
    "#### The pie chart above shows that less people have access to scholarship."
   ]
  },
  {
   "cell_type": "code",
   "execution_count": 43,
   "id": "6ecfbaca",
   "metadata": {},
   "outputs": [
    {
     "data": {
      "image/png": "[encoded data removed]",
      "text/plain": [
       "<Figure size 432x288 with 1 Axes>"
      ]
     },
     "metadata": {
      "needs_background": "light"
     },
     "output_type": "display_data"
    }
   ],
   "source": [
    "labels = ['No scholarship and present','scholarsip and present','No scholarship and absent','scholarship and absent']\n",
    "xlabel = 'Attendance and Scholarship'\n",
    "ylabel = 'Count'\n",
    "title = 'Attendance by scholarship'\n",
    "ticks = [0,1,2,3]\n",
    "count = df_doc_appt.groupby('no_show')['scholarship'].value_counts()\n",
    "plot_bar(count,title,xlabel,ylabel,ticks,labels);"
   ]
  },
  {
   "cell_type": "code",
   "execution_count": 44,
   "id": "3ffc1f30",
   "metadata": {},
   "outputs": [],
   "source": [
    "scholarship_count = df_doc_appt.groupby(['no_show','scholarship']).count()['handicap']\n",
    "scholarship_totals = df_doc_appt.groupby('scholarship').count()['handicap']"
   ]
  },
  {
   "cell_type": "code",
   "execution_count": 45,
   "id": "732333af",
   "metadata": {},
   "outputs": [
    {
     "data": {
      "image/png": "[encoded data removed]",
      "text/plain": [
       "<Figure size 432x288 with 1 Axes>"
      ]
     },
     "metadata": {
      "needs_background": "light"
     },
     "output_type": "display_data"
    }
   ],
   "source": [
    "colors = ['green','yellow','red','orange']\n",
    "labels = ['No scholarship and present','scholarsip and present','No scholarship and absent','scholarship and absent']\n",
    "ticks = [0,1,2,3]\n",
    "xlabel = 'Scholarship and Attendance'\n",
    "ylabel = 'Proportions'\n",
    "title = 'Attendance by scholarship proportion'\n",
    "value = proportions(scholarship_count,scholarship_totals)\n",
    "plot_prop_bar(value,ticks,labels,xlabel,ylabel,title);"
   ]
  },
  {
   "cell_type": "markdown",
   "id": "d9d7bb7f",
   "metadata": {},
   "source": [
    "#### Both charts above indicates that patient without scholarships are more likely to appear for their appointments while patients with scholarship are more likely not going to appear for their appointment."
   ]
  },
  {
   "cell_type": "markdown",
   "id": "53f51d40",
   "metadata": {},
   "source": [
    "#### I will be reviewing the age distribution as an indication of attendance."
   ]
  },
  {
   "cell_type": "code",
   "execution_count": 53,
   "id": "ff72d6ed",
   "metadata": {},
   "outputs": [
    {
     "data": {
      "text/plain": [
       "age_distribution  no_show\n",
       "young             No         17761\n",
       "                  Yes         5293\n",
       "adult             No         27343\n",
       "                  Yes         8014\n",
       "elderly           No         30011\n",
       "                  Yes         6531\n",
       "old               No         11235\n",
       "                  Yes         2066\n",
       "Name: no_show, dtype: int64"
      ]
     },
     "execution_count": 53,
     "metadata": {},
     "output_type": "execute_result"
    }
   ],
   "source": [
    "#group by age distribution \n",
    "df_doc_appt.groupby('age_distribution')['no_show'].value_counts()"
   ]
  },
  {
   "cell_type": "code",
   "execution_count": 54,
   "id": "24055038",
   "metadata": {},
   "outputs": [
    {
     "data": {
      "image/png": "[encoded data removed]",
      "text/plain": [
       "<Figure size 432x288 with 1 Axes>"
      ]
     },
     "metadata": {
      "needs_background": "light"
     },
     "output_type": "display_data"
    }
   ],
   "source": [
    "labels = ['young and present','young and absent','adult and present','adult and absent','elderly and present','elderly and absent','old and present','old and absent']\n",
    "xlabel = 'Attendance and Age distribution'\n",
    "ylabel = 'Count'\n",
    "title = 'Attendance by age distribution'\n",
    "ticks = [0,1,2,3,4,5,6,7]\n",
    "count = df_doc_appt.groupby('age_distribution')['no_show'].value_counts()\n",
    "plot_bar(count,title,xlabel,ylabel,ticks,labels);"
   ]
  },
  {
   "cell_type": "markdown",
   "id": "0fccb2e2",
   "metadata": {},
   "source": [
    "#### The chart depicts that the elderly are most likely to show up, however we could also look at the data proportions to see the data differently"
   ]
  },
  {
   "cell_type": "code",
   "execution_count": 55,
   "id": "73cdb2cf",
   "metadata": {},
   "outputs": [],
   "source": [
    "age_distribution_count = df_doc_appt.groupby(['no_show','age_distribution']).count()['handicap']\n",
    "age_distribution_totals = df_doc_appt.groupby('age_distribution').count()['handicap']"
   ]
  },
  {
   "cell_type": "code",
   "execution_count": 56,
   "id": "d9dca0a8",
   "metadata": {},
   "outputs": [
    {
     "data": {
      "image/png": "[encoded data removed]",
      "text/plain": [
       "<Figure size 432x288 with 1 Axes>"
      ]
     },
     "metadata": {
      "needs_background": "light"
     },
     "output_type": "display_data"
    }
   ],
   "source": [
    "colors = ['blue','red','orange','tan']\n",
    "labels = ['young and present','adult and present','elderly and present','old and present','young and absent','adult and absent','elderly and absent','old and absent']\n",
    "ticks = [0,1,2,3,4,5,6,7]\n",
    "xlabel = 'Age distribution and Attendance'\n",
    "ylabel = 'Proportions'\n",
    "title = 'Attendance by gender proportion'\n",
    "value = proportions(age_distribution_count,age_distribution_totals)\n",
    "plot_prop_bar(value,ticks,labels,xlabel,ylabel,title);"
   ]
  },
  {
   "cell_type": "markdown",
   "id": "1085474c",
   "metadata": {},
   "source": [
    "#### This shows that in relation to the number of person present within each age group, the patient within the Old age group are most likely to attend their appointments, while the people within the young age group are most likely not going to show for their appointments compared to other age groups"
   ]
  },
  {
   "cell_type": "markdown",
   "id": "26bb4146",
   "metadata": {},
   "source": [
    "#### Q3.  Age distribution of people with access to medical scholarship."
   ]
  },
  {
   "cell_type": "markdown",
   "id": "9fc04b84",
   "metadata": {},
   "source": [
    "#### I would be looking at the group that has the highest number of patient with access to scholarship"
   ]
  },
  {
   "cell_type": "code",
   "execution_count": 46,
   "id": "58799adc",
   "metadata": {
    "scrolled": true
   },
   "outputs": [
    {
     "data": {
      "text/plain": [
       "age_distribution  scholarship\n",
       "young             0              19953\n",
       "                  1               3101\n",
       "adult             0              30819\n",
       "                  1               4538\n",
       "elderly           0              33653\n",
       "                  1               2889\n",
       "old               0              13050\n",
       "                  1                251\n",
       "Name: scholarship, dtype: int64"
      ]
     },
     "execution_count": 46,
     "metadata": {},
     "output_type": "execute_result"
    }
   ],
   "source": [
    "#group by age_distribution\n",
    "df_doc_appt.groupby('age_distribution')['scholarship'].value_counts()"
   ]
  },
  {
   "cell_type": "code",
   "execution_count": 47,
   "id": "c8104f8c",
   "metadata": {},
   "outputs": [],
   "source": [
    "#Mask by patient with access to scholarship\n",
    "df_s = df_doc_appt.query('scholarship == 1')"
   ]
  },
  {
   "cell_type": "code",
   "execution_count": 48,
   "id": "c99c73b9",
   "metadata": {
    "scrolled": true
   },
   "outputs": [
    {
     "data": {
      "text/plain": [
       "age_distribution  scholarship\n",
       "young             1              3101\n",
       "adult             1              4538\n",
       "elderly           1              2889\n",
       "old               1               251\n",
       "Name: scholarship, dtype: int64"
      ]
     },
     "execution_count": 48,
     "metadata": {},
     "output_type": "execute_result"
    }
   ],
   "source": [
    "df_s.groupby('age_distribution')['scholarship'].value_counts()"
   ]
  },
  {
   "cell_type": "code",
   "execution_count": 49,
   "id": "4d307f5d",
   "metadata": {
    "scrolled": true
   },
   "outputs": [
    {
     "data": {
      "image/png": "[encoded data removed]",
      "text/plain": [
       "<Figure size 432x288 with 1 Axes>"
      ]
     },
     "metadata": {
      "needs_background": "light"
     },
     "output_type": "display_data"
    }
   ],
   "source": [
    "labels = ['Young','Adult','Elderly','Old']\n",
    "xlabel = 'Age and Scholarship'\n",
    "ylabel = 'Count'\n",
    "title = 'Age distribution with scholarship'\n",
    "ticks = [0,1,2,3]\n",
    "count = df_s.groupby('age_distribution')['scholarship'].value_counts()\n",
    "plot_bar(count,title,xlabel,ylabel,ticks,labels);"
   ]
  },
  {
   "cell_type": "markdown",
   "id": "86676be0",
   "metadata": {},
   "source": [
    "#### This shows that patients that belong to the adult age range have the highest number of medicals scholarships."
   ]
  },
  {
   "cell_type": "code",
   "execution_count": 50,
   "id": "5e075364",
   "metadata": {},
   "outputs": [],
   "source": [
    "df_ws = df_doc_appt.query('scholarship == 0')"
   ]
  },
  {
   "cell_type": "code",
   "execution_count": 51,
   "id": "e2c411ca",
   "metadata": {
    "scrolled": true
   },
   "outputs": [
    {
     "data": {
      "text/plain": [
       "age_distribution  scholarship\n",
       "young             0              19953\n",
       "adult             0              30819\n",
       "elderly           0              33653\n",
       "old               0              13050\n",
       "Name: scholarship, dtype: int64"
      ]
     },
     "execution_count": 51,
     "metadata": {},
     "output_type": "execute_result"
    }
   ],
   "source": [
    "df_ws.groupby('age_distribution')['scholarship'].value_counts()"
   ]
  },
  {
   "cell_type": "code",
   "execution_count": 52,
   "id": "31d622fe",
   "metadata": {
    "scrolled": true
   },
   "outputs": [
    {
     "data": {
      "image/png": "[encoded data removed]",
      "text/plain": [
       "<Figure size 432x288 with 1 Axes>"
      ]
     },
     "metadata": {
      "needs_background": "light"
     },
     "output_type": "display_data"
    }
   ],
   "source": [
    "labels = ['Young','Adult','Elderly','Old']\n",
    "xlabel = 'Age and Scholarship'\n",
    "ylabel = 'Count'\n",
    "title = 'Age distribution without scholarship'\n",
    "ticks = [0,1,2,3]\n",
    "count = df_ws.groupby('age_distribution')['scholarship'].value_counts()\n",
    "plot_bar(count,title,xlabel,ylabel,ticks,labels);"
   ]
  },
  {
   "cell_type": "markdown",
   "id": "15b427ee",
   "metadata": {},
   "source": [
    "#### This indicates that the patient belonging to the elderly age range have the highest number of people without  a scholarship."
   ]
  },
  {
   "cell_type": "markdown",
   "id": "4274bfa3",
   "metadata": {},
   "source": [
    "<a id='conclusions'></a>\n",
    "## Conclusions\n",
    "\n",
    "#### From the analysis conducted on the given dataset, initially we lean towards believing more females show up for appointments, however this isn't totally indicative of whether gender is an important feataure to determine if a patient would show or not as the data set originally contains more female gender than male. This is apparent when we dive further using proportions which shows that the percentage of males attending from their total is closely matched with same for females. Therefore gender might not be a feature to tell if a patient shows or not, Even though the gender with most attendance are females.\n",
    "\n",
    "#### Also from the analysis we find that most patient lack access to scholarship,however we also find that a greater percentage of people without scholarship compared to their total show for appointment, more than the percentage of those that have compared their totals. Therefore this might be a good indicator of whether a patient will show or not.\n",
    "\n",
    "#### Another feature that may be a good indicator is the age. The patient that falls within the age range \"Old\" has shown in the proportions plot tend to attend their appointment more than any other age range.\n",
    "\n",
    "#### Finally in the analysis we could find that patient within the adult age range dominate the number of people with scholarships while people in the elderly age range dominate patients without scholarships.\n",
    "\n",
    "#### This analysis may differ if we have a closely balanced amount of both genders and if i didnt have to fill out ages with the mean age. A total of 3539 age values were zero and had to be filled with the mean age. This may have considerable effect on the outcome of the analysis. If different values were presented for the Ages in this group it may lead to an entirely different outcome.\n",
    "\n",
    "#### If perhaps the neighbourhood were grouped into regions it may be easy to perform additional analysis to know which neighborhood dominate in terms of attendance and if lack of scholarship for certain neighborhood affected their availability."
   ]
  },
  {
   "cell_type": "code",
   "execution_count": null,
   "id": "8731b2a6",
   "metadata": {},
   "outputs": [],
   "source": [
    "from subprocess import call\n",
    "call(['python', '-m', 'nbconvert', 'Investigate_a_Dataset.ipynb'])"
   ]
  }
 ],
 "metadata": {
  "kernelspec": {
   "display_name": "Python 3 (ipykernel)",
   "language": "python",
   "name": "python3"
  },
  "language_info": {
   "codemirror_mode": {
    "name": "ipython",
    "version": 3
   },
   "file_extension": ".py",
   "mimetype": "text/x-python",
   "name": "python",
   "nbconvert_exporter": "python",
   "pygments_lexer": "ipython3",
   "version": "3.9.12"
  }
 },
 "nbformat": 4,
 "nbformat_minor": 5
}
